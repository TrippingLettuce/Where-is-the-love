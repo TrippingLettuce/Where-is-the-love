{
 "cells": [
  {
   "attachments": {},
   "cell_type": "markdown",
   "metadata": {},
   "source": [
    "## Start\n"
   ]
  },
  {
   "cell_type": "code",
   "execution_count": 1,
   "metadata": {},
   "outputs": [],
   "source": [
    "import os\n",
    "import pandas as pd \n",
    "import numpy as np \n",
    "from lyricsgenius import Genius\n",
    "from dotenv import load_dotenv\n",
    "import funkyFunctions\n",
    "import re\n",
    "import os\n",
    "import pandas as pd \n",
    "import numpy as np \n",
    "from lyricsgenius import Genius\n",
    "from dotenv import load_dotenv\n",
    "import re\n",
    "import requests\n"
   ]
  },
  {
   "cell_type": "code",
   "execution_count": 2,
   "metadata": {},
   "outputs": [],
   "source": [
    "load_dotenv()  # Load environment variables from the .env file\n",
    "\n",
    "genius_key = os.getenv('GENUIS_KEY')\n",
    "genius = Genius(genius_key,timeout=15)\n",
    "genius.verbose = False\n",
    "genius.remove_section_headers = True\n",
    "genius.excluded_terms = [\"(Remix)\", \"(Live)\"]"
   ]
  },
  {
   "attachments": {},
   "cell_type": "markdown",
   "metadata": {},
   "source": [
    "## Functions \n"
   ]
  },
  {
   "cell_type": "code",
   "execution_count": 67,
   "metadata": {},
   "outputs": [],
   "source": [
    "def getData(rap_df):\n",
    "\n",
    "    song_number = 3\n",
    "    artist = 2\n",
    "    #Fill Songs and Lyrics Column with Nan\n",
    "    rap_df['Songs'] = np.nan\n",
    "    rap_df['Lyrics'] = np.nan\n",
    "    #Show head\n",
    "    print(rap_df.head())\n",
    "\n",
    "    #Loop through rows\n",
    "    #for x in range(loc(rap_df)):\n",
    "    for x in range(artist):\n",
    "        #Get artist name\n",
    "        artist_name = rap_df.loc[x][0]\n",
    "        print(f\"Getting Data for {artist_name}\")\n",
    "        #Pull song data from genuis\n",
    "        # Retry mechanism\n",
    "        retries = 3\n",
    "        while retries > 0:\n",
    "            try:\n",
    "                # Pull song data from genius\n",
    "                artist = genius.search_artist(artist_name, max_songs=song_number, sort=\"popularity\")\n",
    "                break\n",
    "            except requests.exceptions.Timeout:\n",
    "                retries -= 1\n",
    "                print(f\"Request timed out. Retrying... {retries} attempts remaining.\")\n",
    "                if retries == 0:\n",
    "                    print(f\"Failed to get data for {artist_name}. Skipping...\")\n",
    "                    continue\n",
    "        #Temp song and lyric list\n",
    "        song_list = []\n",
    "        song_lyrics_list = []\n",
    "\n",
    "        #iiterate through songs and year \n",
    "        for song in artist.songs:\n",
    "            print(song.title)\n",
    "            song_list.append(song.title)\n",
    "\n",
    "\n",
    "        # Add to row\n",
    "        rap_df['Songs'][x] = song_list\n",
    "\n",
    "        # Iterate over the lyrics and add them to the list\n",
    "        for song in song_list:\n",
    "            lyrics = genius.search_song(artist_name,song)\n",
    "            song_lyrics_list.append(lyrics.lyrics)\n",
    "        #Add to row\n",
    "        rap_df['Lyrics'][x] = song_lyrics_list\n",
    "\n",
    "    print(\"Data Has Been Recived\")\n",
    "    #Show head\n",
    "    print(rap_df.head())\n",
    "    "
   ]
  },
  {
   "cell_type": "code",
   "execution_count": 66,
   "metadata": {},
   "outputs": [],
   "source": [
    "\n",
    "def cleanData(rap_df):\n",
    "    print(\"Cleaning Data...\")\n",
    "\n",
    "    for x in range(2):\n",
    "        name = rap_df[\"Rap Name\"][x]\n",
    "        print(f\"Cleaning data for {name}\")\n",
    "\n",
    "        lyrics_list = rap_df[\"Lyrics\"][x]\n",
    "        cleaned_lyrics_list = []\n",
    "\n",
    "        #Maybe not go trhough loop\n",
    "\n",
    "        cleaned_lyric = process_string(lyrics_list)\n",
    "        cleaned_lyrics_list.append(cleaned_lyric)\n",
    "\n",
    "        rap_df[\"Lyrics\"][x] = cleaned_lyrics_list\n",
    "        print( rap_df[\"Lyrics\"][x])\n",
    "\n",
    "    print(\"Cleaned Data\")\n",
    "    print(rap_df.head())\n",
    "\n",
    "\n",
    "def process_string(input_string):\n",
    "    # Remove all occurrences of a standalone backslash\n",
    "    input_string = re.sub(r'\\\\(?![n])', '', input_string)\n",
    "    \n",
    "    # Replace all occurrences of \\n with a single space\n",
    "    input_string = re.sub(r'\\\\n', ' ', input_string)\n",
    "    \n",
    "    # Remove specified characters: ',', ''', '(', ')', '?', '\"', ':', '-', '!'\n",
    "    input_string = re.sub(r\"[,'\\(\\)\\?\\\":\\-!]\", '', input_string)\n",
    "\n",
    "    return input_string"
   ]
  },
  {
   "cell_type": "code",
   "execution_count": 53,
   "metadata": {},
   "outputs": [],
   "source": [
    "def organizeDataTotal(rap_df):\n",
    "    #Overall for all rappers\n",
    "    lyric_dict_all_rap = {}\n",
    "\n",
    "    print(\"\")\n",
    "    print(\"Organizing TotalData...\")\n",
    "    print(\"\")\n",
    "\n",
    "    #Itterate through each row \n",
    "    for x in range(10):\n",
    "    #Take lyric column\n",
    "        lyrics = rap_df['Lyrics'][x]\n",
    "        words = lyrics.lower().split()\n",
    "        for word in words: \n",
    "            if word in lyric_dict_all_rap:\n",
    "                lyric_dict_all_rap[word] += 1\n",
    "            else:\n",
    "                lyric_dict_all_rap[word] = 1\n",
    "\n",
    "\n",
    "    # Append the key-value pair to the dictionary\n",
    "    #my_dict[key] = value\n",
    "    #Sorting the dictonary \n",
    "    sorted_word_count = sorted(lyric_dict_all_rap.items(), key=lambda item: item[1], reverse=True)\n",
    "    #Put in new data frame \n",
    "    #Rows \n",
    "    my_index = ['Total']\n",
    "    for x in range(len(rap_df)):\n",
    "        my_index.append(rap_df['Rap Name'][x])\n",
    "    #Put in new data frame\n",
    "    #Columns\n",
    "    my_columns = []             #Go to top 1000 words when we have more data\n",
    "    for key, value in sorted_word_count[:500]:\n",
    "        my_columns.append(key)\n",
    "\n",
    "    #Fill in data with Nan\n",
    "    nan_array = np.empty((len(my_index), len(my_columns)))\n",
    "    nan_array[:] = np.NaN\n",
    "    #Filling in Total Row\n",
    "    total_list = [] \n",
    "    for key, value in sorted_word_count[:500]:\n",
    "        total_list.append(value)\n",
    "\n",
    "    #Create DF\n",
    "    rap_final = pd.DataFrame(nan_array,index=my_index,columns=my_columns) \n",
    "    #Add total values\n",
    "    rap_final.loc[\"Total\"] = total_list\n",
    "    \n",
    "    # Create a new DataFrame with \"Artist Name\" as the first column\n",
    "    artist_name_df = pd.DataFrame(['Total'] + rap_df['Rap Name'].tolist(), columns=[\"Artist Name\"])\n",
    "    \n",
    "    # Reset the index of rap_final DataFrame to be numeric\n",
    "    rap_final.reset_index(drop=True, inplace=True)\n",
    "\n",
    "    # Concatenate the artist_name_df DataFrame with rap_final DataFrame\n",
    "    rap_final = pd.concat([artist_name_df, rap_final], axis=1)\n",
    "\n",
    "    #Index needs to be True\n",
    "    print(\"Done Saved in rap_NEWT.csv\")\n",
    "    rap_final.to_csv('rap_NEWT.csv', index=True)\n"
   ]
  },
  {
   "cell_type": "code",
   "execution_count": 62,
   "metadata": {},
   "outputs": [],
   "source": [
    "def organizeDataArtist(rap_df, rap_final):\n",
    "    print(\"Organizing Data...\")\n",
    "\n",
    "    #Grab Total Row\n",
    "    total = rap_final.iloc[0].to_dict()\n",
    "\n",
    "    #Get index list\n",
    "    index_list = rap_final.columns.tolist()\n",
    "\n",
    "    for x in range(10):\n",
    "        artist_name = rap_df[\"Rap Name\"][x]  # Update the index to start from 0\n",
    "        print(f\"Organizing Lyrics for {artist_name}\")\n",
    "\n",
    "        # Temp dictionary reset (Uses most common [] words)\n",
    "        dick = {key: 0 for key in index_list}\n",
    "\n",
    "        # Add artist column\n",
    "        dick[\"Artist Name\"] = artist_name\n",
    "\n",
    "        # Take lyric column\n",
    "        lyrics = rap_df['Lyrics'][x]  # Update the index to start from 0\n",
    "        words = lyrics.lower().split()\n",
    "        for word in words:\n",
    "            if word in index_list:\n",
    "                # Add one to dick\n",
    "                dick[word] += 1\n",
    "\n",
    "        # Update the row in rap_final DataFrame\n",
    "        rap_final.loc[x] = dick\n",
    "\n",
    "    #So bassically I have to create a new empty row and save the total to top cuz I am a dumb ass somehow\n",
    "    nan_row = pd.DataFrame(columns=rap_final.columns, index=[0])\n",
    "    nan_row.loc[0] = np.nan\n",
    "    rap_final = pd.concat([nan_row, rap_final], ignore_index=True)\n",
    "    \n",
    "    rap_final.loc[0] = total\n",
    "\n",
    "    #Gonna also change nword to nword  ok\n",
    "    #Want to talk or not to talk about the use of the nword in rap \n",
    "    #N-word N-words HardR\n",
    "    \n",
    "    #Add like column to front\n",
    "    \n",
    "\n",
    "    rap_final.to_csv(\"/home/lettuce/MyCode/Statistical-Analysis-of-Music-Genres/src/rap_FINALTOP.csv\",index=True)\n",
    "    print(\"Organized Data\")"
   ]
  },
  {
   "attachments": {},
   "cell_type": "markdown",
   "metadata": {},
   "source": [
    "## Run"
   ]
  },
  {
   "cell_type": "code",
   "execution_count": 68,
   "metadata": {},
   "outputs": [
    {
     "data": {
      "text/html": [
       "<div>\n",
       "<style scoped>\n",
       "    .dataframe tbody tr th:only-of-type {\n",
       "        vertical-align: middle;\n",
       "    }\n",
       "\n",
       "    .dataframe tbody tr th {\n",
       "        vertical-align: top;\n",
       "    }\n",
       "\n",
       "    .dataframe thead th {\n",
       "        text-align: right;\n",
       "    }\n",
       "</style>\n",
       "<table border=\"1\" class=\"dataframe\">\n",
       "  <thead>\n",
       "    <tr style=\"text-align: right;\">\n",
       "      <th></th>\n",
       "      <th>Rap Name</th>\n",
       "      <th>Era</th>\n",
       "    </tr>\n",
       "  </thead>\n",
       "  <tbody>\n",
       "    <tr>\n",
       "      <th>0</th>\n",
       "      <td>The Notorious B.I.G.</td>\n",
       "      <td>1990s</td>\n",
       "    </tr>\n",
       "    <tr>\n",
       "      <th>1</th>\n",
       "      <td>Tupac</td>\n",
       "      <td>1990s</td>\n",
       "    </tr>\n",
       "    <tr>\n",
       "      <th>2</th>\n",
       "      <td>Eminem</td>\n",
       "      <td>2000s</td>\n",
       "    </tr>\n",
       "    <tr>\n",
       "      <th>3</th>\n",
       "      <td>Kendrick Lamar</td>\n",
       "      <td>2010s</td>\n",
       "    </tr>\n",
       "    <tr>\n",
       "      <th>4</th>\n",
       "      <td>Nas</td>\n",
       "      <td>1990s</td>\n",
       "    </tr>\n",
       "  </tbody>\n",
       "</table>\n",
       "</div>"
      ],
      "text/plain": [
       "               Rap Name    Era\n",
       "0  The Notorious B.I.G.  1990s\n",
       "1                 Tupac  1990s\n",
       "2                Eminem  2000s\n",
       "3        Kendrick Lamar  2010s\n",
       "4                   Nas  1990s"
      ]
     },
     "execution_count": 68,
     "metadata": {},
     "output_type": "execute_result"
    }
   ],
   "source": [
    "csv_start = pd.read_csv('/home/lettuce/MyCode/Statistical-Analysis-of-Music-Genres/src/rap_ERA.csv')\n",
    "csv_start.head()"
   ]
  },
  {
   "cell_type": "code",
   "execution_count": 69,
   "metadata": {},
   "outputs": [
    {
     "name": "stdout",
     "output_type": "stream",
     "text": [
      "               Rap Name    Era  Songs  Lyrics\n",
      "0  The Notorious B.I.G.  1990s    NaN     NaN\n",
      "1                 Tupac  1990s    NaN     NaN\n",
      "2                Eminem  2000s    NaN     NaN\n",
      "3        Kendrick Lamar  2010s    NaN     NaN\n",
      "4                   Nas  1990s    NaN     NaN\n",
      "Getting Data for The Notorious B.I.G.\n",
      "Juicy\n",
      "Big Poppa\n",
      "Suicidal Thoughts\n"
     ]
    },
    {
     "name": "stderr",
     "output_type": "stream",
     "text": [
      "/tmp/ipykernel_3490/3143411819.py:42: SettingWithCopyWarning: \n",
      "A value is trying to be set on a copy of a slice from a DataFrame\n",
      "\n",
      "See the caveats in the documentation: https://pandas.pydata.org/pandas-docs/stable/user_guide/indexing.html#returning-a-view-versus-a-copy\n",
      "  rap_df['Songs'][x] = song_list\n",
      "/tmp/ipykernel_3490/3143411819.py:49: SettingWithCopyWarning: \n",
      "A value is trying to be set on a copy of a slice from a DataFrame\n",
      "\n",
      "See the caveats in the documentation: https://pandas.pydata.org/pandas-docs/stable/user_guide/indexing.html#returning-a-view-versus-a-copy\n",
      "  rap_df['Lyrics'][x] = song_lyrics_list\n"
     ]
    },
    {
     "name": "stdout",
     "output_type": "stream",
     "text": [
      "Getting Data for Tupac\n",
      "Hit ’Em Up\n",
      "Changes\n",
      "Keep Ya Head Up\n",
      "Data Has Been Recived\n",
      "               Rap Name    Era                                   Songs  \\\n",
      "0  The Notorious B.I.G.  1990s   [Juicy, Big Poppa, Suicidal Thoughts]   \n",
      "1                 Tupac  1990s  [Hit ’Em Up, Changes, Keep Ya Head Up]   \n",
      "2                Eminem  2000s                                     NaN   \n",
      "3        Kendrick Lamar  2010s                                     NaN   \n",
      "4                   Nas  1990s                                     NaN   \n",
      "\n",
      "                                              Lyrics  \n",
      "0  [368 ContributorsTranslationsPortuguêsFrançais...  \n",
      "1  [456 ContributorsTranslationsFrançaisAzərbayca...  \n",
      "2                                                NaN  \n",
      "3                                                NaN  \n",
      "4                                                NaN  \n"
     ]
    },
    {
     "data": {
      "text/html": [
       "<div>\n",
       "<style scoped>\n",
       "    .dataframe tbody tr th:only-of-type {\n",
       "        vertical-align: middle;\n",
       "    }\n",
       "\n",
       "    .dataframe tbody tr th {\n",
       "        vertical-align: top;\n",
       "    }\n",
       "\n",
       "    .dataframe thead th {\n",
       "        text-align: right;\n",
       "    }\n",
       "</style>\n",
       "<table border=\"1\" class=\"dataframe\">\n",
       "  <thead>\n",
       "    <tr style=\"text-align: right;\">\n",
       "      <th></th>\n",
       "      <th>Rap Name</th>\n",
       "      <th>Era</th>\n",
       "      <th>Songs</th>\n",
       "      <th>Lyrics</th>\n",
       "    </tr>\n",
       "  </thead>\n",
       "  <tbody>\n",
       "    <tr>\n",
       "      <th>0</th>\n",
       "      <td>The Notorious B.I.G.</td>\n",
       "      <td>1990s</td>\n",
       "      <td>['Juicy', 'Big Poppa', 'Suicidal Thoughts']</td>\n",
       "      <td>['368 ContributorsTranslationsPortuguêsFrançai...</td>\n",
       "    </tr>\n",
       "    <tr>\n",
       "      <th>1</th>\n",
       "      <td>Tupac</td>\n",
       "      <td>1990s</td>\n",
       "      <td>['Hit ’Em Up', 'Changes', 'Keep Ya Head Up']</td>\n",
       "      <td>[\"456 ContributorsTranslationsFrançaisAzərbayc...</td>\n",
       "    </tr>\n",
       "    <tr>\n",
       "      <th>2</th>\n",
       "      <td>Eminem</td>\n",
       "      <td>2000s</td>\n",
       "      <td>NaN</td>\n",
       "      <td>NaN</td>\n",
       "    </tr>\n",
       "    <tr>\n",
       "      <th>3</th>\n",
       "      <td>Kendrick Lamar</td>\n",
       "      <td>2010s</td>\n",
       "      <td>NaN</td>\n",
       "      <td>NaN</td>\n",
       "    </tr>\n",
       "    <tr>\n",
       "      <th>4</th>\n",
       "      <td>Nas</td>\n",
       "      <td>1990s</td>\n",
       "      <td>NaN</td>\n",
       "      <td>NaN</td>\n",
       "    </tr>\n",
       "  </tbody>\n",
       "</table>\n",
       "</div>"
      ],
      "text/plain": [
       "               Rap Name    Era                                         Songs  \\\n",
       "0  The Notorious B.I.G.  1990s   ['Juicy', 'Big Poppa', 'Suicidal Thoughts']   \n",
       "1                 Tupac  1990s  ['Hit ’Em Up', 'Changes', 'Keep Ya Head Up']   \n",
       "2                Eminem  2000s                                           NaN   \n",
       "3        Kendrick Lamar  2010s                                           NaN   \n",
       "4                   Nas  1990s                                           NaN   \n",
       "\n",
       "                                              Lyrics  \n",
       "0  ['368 ContributorsTranslationsPortuguêsFrançai...  \n",
       "1  [\"456 ContributorsTranslationsFrançaisAzərbayc...  \n",
       "2                                                NaN  \n",
       "3                                                NaN  \n",
       "4                                                NaN  "
      ]
     },
     "execution_count": 69,
     "metadata": {},
     "output_type": "execute_result"
    }
   ],
   "source": [
    "getData(csv_start)\n",
    "#Save to new csv\n",
    "csv_start.to_csv('/home/lettuce/MyCode/Statistical-Analysis-of-Music-Genres/src/rap_TRAN.csv', index=False)\n",
    "csv_start = pd.read_csv('/home/lettuce/MyCode/Statistical-Analysis-of-Music-Genres/src/rap_TRAN.csv')\n",
    "csv_start.head()"
   ]
  },
  {
   "cell_type": "code",
   "execution_count": 81,
   "metadata": {},
   "outputs": [
    {
     "name": "stdout",
     "output_type": "stream",
     "text": [
      "['Hit ’Em Up', 'Changes', 'Keep Ya Head Up']\n"
     ]
    }
   ],
   "source": [
    "song = csv_start[\"Songs\"][1]\n",
    "print(song)"
   ]
  },
  {
   "cell_type": "code",
   "execution_count": 47,
   "metadata": {},
   "outputs": [
    {
     "name": "stdout",
     "output_type": "stream",
     "text": [
      "Cleaning Data...\n",
      "Cleaning data for The Notorious B.I.G.\n"
     ]
    },
    {
     "ename": "TypeError",
     "evalue": "expected string or bytes-like object",
     "output_type": "error",
     "traceback": [
      "\u001b[0;31m---------------------------------------------------------------------------\u001b[0m",
      "\u001b[0;31mTypeError\u001b[0m                                 Traceback (most recent call last)",
      "Cell \u001b[0;32mIn[47], line 1\u001b[0m\n\u001b[0;32m----> 1\u001b[0m cleanData(csv_start)\n\u001b[1;32m      2\u001b[0m csv_start\u001b[39m.\u001b[39mto_csv(\u001b[39m'\u001b[39m\u001b[39m/home/lettuce/MyCode/Statistical-Analysis-of-Music-Genres/src/rap_TRAN.csv\u001b[39m\u001b[39m'\u001b[39m, index\u001b[39m=\u001b[39m\u001b[39mFalse\u001b[39;00m)\n\u001b[1;32m      3\u001b[0m csv_start \u001b[39m=\u001b[39m pd\u001b[39m.\u001b[39mread_csv(\u001b[39m'\u001b[39m\u001b[39m/home/lettuce/MyCode/Statistical-Analysis-of-Music-Genres/src/rap_TRAN.csv\u001b[39m\u001b[39m'\u001b[39m)\n",
      "Cell \u001b[0;32mIn[46], line 13\u001b[0m, in \u001b[0;36mcleanData\u001b[0;34m(rap_df)\u001b[0m\n\u001b[1;32m      9\u001b[0m cleaned_lyrics_list \u001b[39m=\u001b[39m []\n\u001b[1;32m     11\u001b[0m \u001b[39m#Maybe not go trhough loop\u001b[39;00m\n\u001b[0;32m---> 13\u001b[0m cleaned_lyric \u001b[39m=\u001b[39m process_string(lyrics_list)\n\u001b[1;32m     14\u001b[0m cleaned_lyrics_list\u001b[39m.\u001b[39mappend(cleaned_lyric)\n\u001b[1;32m     16\u001b[0m rap_df[\u001b[39m\"\u001b[39m\u001b[39mLyrics\u001b[39m\u001b[39m\"\u001b[39m][x] \u001b[39m=\u001b[39m cleaned_lyrics_list\n",
      "Cell \u001b[0;32mIn[46], line 25\u001b[0m, in \u001b[0;36mprocess_string\u001b[0;34m(input_string)\u001b[0m\n\u001b[1;32m     23\u001b[0m \u001b[39mdef\u001b[39;00m \u001b[39mprocess_string\u001b[39m(input_string):\n\u001b[1;32m     24\u001b[0m     \u001b[39m# Remove all occurrences of a standalone backslash\u001b[39;00m\n\u001b[0;32m---> 25\u001b[0m     input_string \u001b[39m=\u001b[39m re\u001b[39m.\u001b[39;49msub(\u001b[39mr\u001b[39;49m\u001b[39m'\u001b[39;49m\u001b[39m\\\\\u001b[39;49;00m\u001b[39m(?![n])\u001b[39;49m\u001b[39m'\u001b[39;49m, \u001b[39m'\u001b[39;49m\u001b[39m'\u001b[39;49m, input_string)\n\u001b[1;32m     27\u001b[0m     \u001b[39m# Replace all occurrences of \\n with a single space\u001b[39;00m\n\u001b[1;32m     28\u001b[0m     input_string \u001b[39m=\u001b[39m re\u001b[39m.\u001b[39msub(\u001b[39mr\u001b[39m\u001b[39m'\u001b[39m\u001b[39m\\\\\u001b[39;00m\u001b[39mn\u001b[39m\u001b[39m'\u001b[39m, \u001b[39m'\u001b[39m\u001b[39m \u001b[39m\u001b[39m'\u001b[39m, input_string)\n",
      "File \u001b[0;32m/usr/lib/python3.10/re.py:209\u001b[0m, in \u001b[0;36msub\u001b[0;34m(pattern, repl, string, count, flags)\u001b[0m\n\u001b[1;32m    202\u001b[0m \u001b[39mdef\u001b[39;00m \u001b[39msub\u001b[39m(pattern, repl, string, count\u001b[39m=\u001b[39m\u001b[39m0\u001b[39m, flags\u001b[39m=\u001b[39m\u001b[39m0\u001b[39m):\n\u001b[1;32m    203\u001b[0m \u001b[39m    \u001b[39m\u001b[39m\"\"\"Return the string obtained by replacing the leftmost\u001b[39;00m\n\u001b[1;32m    204\u001b[0m \u001b[39m    non-overlapping occurrences of the pattern in string by the\u001b[39;00m\n\u001b[1;32m    205\u001b[0m \u001b[39m    replacement repl.  repl can be either a string or a callable;\u001b[39;00m\n\u001b[1;32m    206\u001b[0m \u001b[39m    if a string, backslash escapes in it are processed.  If it is\u001b[39;00m\n\u001b[1;32m    207\u001b[0m \u001b[39m    a callable, it's passed the Match object and must return\u001b[39;00m\n\u001b[1;32m    208\u001b[0m \u001b[39m    a replacement string to be used.\"\"\"\u001b[39;00m\n\u001b[0;32m--> 209\u001b[0m     \u001b[39mreturn\u001b[39;00m _compile(pattern, flags)\u001b[39m.\u001b[39;49msub(repl, string, count)\n",
      "\u001b[0;31mTypeError\u001b[0m: expected string or bytes-like object"
     ]
    }
   ],
   "source": [
    "cleanData(csv_start)\n"
   ]
  },
  {
   "cell_type": "code",
   "execution_count": 59,
   "metadata": {},
   "outputs": [
    {
     "data": {
      "text/plain": [
       "\"['[368 ContributorsTranslationsPortuguêsFrançaisРусскийJuicy Lyrics Fuck all you hoes Get a grip motherfucker Yeah this album is dedicated To all the teachers that told me Id never amount to nothin To all the people that lived above the buildings that I was hustlin in front of Called the police on me when I was just tryin to make some money to feed my daughter its all good And all the niggas in the struggle You know what Im sayin Its all good baby baby It was all a dream I used to read Word Up magazine SaltnPepa and Heavy D up in the limousine Hangin pictures on my wall Every Saturday Rap Attack Mr. Magic Marley Marl I let my tape rock til my tape popped Smokin weed in Bambú sippin on Private Stock Way back when I had the red and black lumberjack With the hat to match Remember Rappin Duke Duhha duhha You never thought that hiphop would take it this far Now Im in the limelight cause I rhyme tight Time to get paid blow up like the World Trade Born sinner the opposite of a winner Remember when I used to eat sardines for dinner Peace to Ron G Brucie B Kid Capri Funkmaster Flex Lovebug Starski Im blowin up like you thought I would Call the crib same number same hood its all good And if you dont know now you know nigga You might also like You know very well Yeah Who you are Money hoes and clothes Dont let em hold you down Bankrolls yeah haha Reach for the stars Its all good You had a goal Cmon But not that many Its all good Cause youre the only one Ill give you good and plenty Check it  I made the change from a common thief To up close and personal with Robin Leach And Im far from cheap I smoke skunk with my peeps all day Spread love its the Brooklyn way The Moët and Alizé keep me pissy girls used to diss me Now they write letters cause they miss me I never thought it could happen this rapping stuff I was too used to packing gats and stuff Now honeys play me close like butter play toast From the Mississippi down to the East Coast Condos in Queens indo for weeks Sold out seats to hear Biggie Smalls speak Living life without fear Puttin five karats in my baby girl ear Lunches brunches interviews by the pool Considered a fool cause I dropped out of high school Stereotypes of a black male misunderstood And its still all good And if you dont know now you know nigga You know very well Cmon Who you are Bankrolls Dont let em hold you down Clothes Reach for the stars Mansions You had a goal But not that many Its all good Cause youre the only one Ill give you good and plenty 94  Super Nintendo Sega Genesis When I was dead broke man I couldnt picture this 50inch screen moneygreen leather sofa Got two rides a limousine with a chauffeur Phone bill about two Gs flat No need to worry my accountant handles that And my whole crew is loungin Celebrating every day no more public housin Thinkin back on my oneroom shack Now my mom pimps an Ac with minks on her back And she loves to show me off of course Smiles every time my face is up in The Source We used to fuss when the landlord dissed us No heat wonder why Christmas missed us Birthdays was the worst days Now we sip Champagne when we thirsty Uh damn right I like the life I live Cause I went from negative to positive and its all Its all good nigga And if you dont know now you know nigga You know very well Money Who you are Hoes and clothes Dont let em hold you down Bankrolls And if you dont know now you know nigga Reach for the stars Thats right You had a goal Its all good But not that many All good Cause youre the only one East coast represent Ill give you good and plenty Cmon And if you dont know now you know nigga  Representin BTown in the house Biggie Smalls Junior Mafia mad flavor Bad Boy Uh uh yeah aight I see you Cooch  You know very well Who you are Dont let em hold you down Reach for the stars You had a goal But not that many Cause youre the only one Ill give you good and plenty  Biggie Smalls its all good nigga Junior Mafia its all good nigga Bad Boy its all good nigga Its all good Thats right 94 And on and on and on and on You know very well Its all good Who you are Yeah Dont let em hold you down Reach for the stars 390Embed 211 ContributorsTranslationsEnglishEnglishEnglishBig Poppa Lyrics Uh uh check it out Yeah uh Junior M.A.F.I.A. uh Hehe Uh I like this yeah yeah Ninefo Keep bangin  To all the ladies in the place with style and grace Allow me to lace these lyrical douches in your bushes Uh Who rock grooves and make moves with all the mamis The back of the club sippin Moët is where youll find me What The back of the club mackin hoes my crews behind me Uh Mad question askin blunt passin Music blastin but I just cant quit Because one of these honeys Biggie got to creep with Thats right Sleep with keep the ep a secret why not Uh Why blow up my spot cause we both got hot Now check it I got more mack than Craig and in the bed Believe me sweetie I got enough to feed the needy Come on No need to be greedy I got mad friends with Benzes Cnotes by the layers true fuckin players Uh Jump in the Rover and come over tell your friends jump in the GS3 I got the chronic by the tree cuz Lets go  I love it when you call me Big Poppa Throw your hands in the air if yous a true player I love it when you call me Big Poppa To the honeys gettin money playin niggas like dummies I love it when you call me Big Poppa You got a gun up in your waist please dont shoot up the place Why Cause I see some ladies tonight that should be havin my baby Uh baby Uh You might also like Straight up honey really Im askin Most of these niggas think they be mackin but they be actin Who they attractin with that line What Whats your name Whats your sign Soon as he buy that wine I just creep up from behind Thats right And ask you what your interests are who you be with Things that make you smile what numbers to dial You gon be here for a while Im gon go call my crew you go call your crew We can rendezvous at the bar around 2 Come on Plans to leave throw the keys to Little Cease Uhhuh Pull the truck up front and roll up the next blunt So we can steam on the way to the telly go fill my belly G A Tbone steak cheese eggs and Welchs grape Conversate for a few ‘cause in a few we gon do What we came to do aint that right boo True Forget the telly—we just go to the crib And watch a movie in the jacuzzi smoke Ls while you do me  I love it when you call me Big Poppa Throw your hands in the air if yous a true player Come on yeah I love it when you call me Big Poppa To the honeys gettin money playin niggas like dummies Uh I love it when you call me Big Poppa You got a gun up in your waist please dont shoot up the place Why Cause I see some ladies tonight that should be havin my baby baby Uh How you livin Biggie Smalls In mansion and Benzes Givin ends to my friends and it feels stupendous Tremendous cream fuck a dollar and a dream Heh Still tote gats strapped with infrared beams Thats right What Choppin Os Uhhuh smokin la in Optimos Money hoes and clothes all a nigga knows All a nigga knows A foolish pleasure Whatever I had to find the buried treasure For what so grams I had to measure However livin better now Coogi sweater now Drop top BMs Im the man girlfriend  Yeah honey check it Tell your friends to get with my friends And we can be friends Shit we can do this every weekend Thats right alright Is that aight wit you Yeah keep bangin  I love it when you call me Big Poppa Throw your hands in the air if yous a true player I love it when you call me Big Poppa To the honeys gettin money playin niggas like dummies Uh I love it when you call me Big Poppa You got a gun up in your waist please dont shoot up the place Why Cause I see some ladies tonight that should be havin my baby baby Uh Check it out Ninefo shit for that ass uh Puff Daddy Biggie Smalls Junior M.A.F.I.A. Represent baby baby uh187Embed 177 ContributorsTranslationsTürkçeDeutschSuicidal Thoughts Lyrics Hello Aw shit nigga The fuck time is it man Oh God damn Nigga do you know what time it is Aw shit what the fucks goin on You aight Ah nigga what the fuck is wrong with you  When I die fuck it I wanna go to hell Cause Im a piece of shit it aint hard to fuckin tell What you talkin bout man It dont make sense goin to heaven with the goodiegoodies Dressed in white I like black Timbs and black hoodies Aw man Godll probably have me on some real strict shit No sleepin all day no gettin my dick licked Hangin with the goodiegoodies loungin in paradise Fuck that shit I wanna tote guns and shoot dice You talkin some crazy shit now nigga All my life I been considered as the worst Lyin to my mother even stealin out her purse Ah Crime after crime from drugs to extortion I know my mother wish she got a fuckin abortion She dont even love me like she did when I was younger Yo get a hold of yourself nigga Suckin on her chest just to stop my fuckin hunger I wonder; if I died would tears come to her eyes Forgive me for my disrespect forgive me for my lies Youre buggin B My baby mothers eight months her little sisters two Whos to blame for both of them Nah nigga not you I swear to God I want to just slit my wrists and end this bullshit Throw the Magnum to my head threaten to pull shit Nigga what the fuck And squeeze until the beds completely red Its too late for this shit man Im glad Im dead a worthless fuckin buddha head The stress is buildin up I cant— I cant believe Ayo Im on my way over there man Suicides on my fuckin mind I wanna leave I swear to God I feel like death is fuckin callin me But nah you wouldnt understand Nigga talk to me please man You see its kinda like the crack did to Pookie in New Jack Except when I cross over there aint no comin back Ayo ayo man Im out Should I die on the train track like Ramo in Beat Street Ima call you when I get in the car People at the funeral frontin like they miss me Ayo where your girl at man My baby mama kiss me but she glad Im gone Yo put your girl on the phone nigga She know me and her sister had somethin goin on I reach my peak I cant speak Ayo you listenin to me motherfucker Call my nigga Chic tell him that my will is weak Ayo cmon nigga Im sick of niggas lyin Cut that Im sick of bitches hawkin Ayo Matter of fact Im sick of talkin Nigga yo yo Big Ayo chill *Gunshot* Ayo Big Ayo Big You might also like Please hang up and try your call again Please hang up— Is a recording252Embed 222 ContributorsHypnotize Lyrics Uh uh Uh come on  Ha sicker than your average Poppa twist cabbage off instinct Niggas dont think shit stink Pink gators my Detroit players Timbs for my hooligans in Brooklyn Thats right Dead right if the head right Biggie there ery night Poppa been smooth since days of Underoos Never lose never choose to bruise crews who Do somethin to us talk go through us Come on do it Girls walk to us wanna do us screw us Who us Yeah Poppa and Puff He he Close like Starsky and Hutch stick the clutch Dare I squeeze three at your cherry M3 Take that take that take that ha ha Bang every MC easily busily Recently niggas frontin aint sayin nothin Nothin So I just speak my piece keep my peace Come on Cubans with the Jesus piece with my peeps Thank you Packin askin Who want it you got it nigga flaunt it That Brooklyn bullshit we on it Biggie Biggie Biggie cant you see Sometimes your words just hypnotize me And I just love your flashy ways Guess thats why they broke and youre so paid Biggie Biggie Biggie cant you see Uhhuh Sometimes your words just hypnotize me Hypnotize And I just love your flashy ways Uhhuh Guess thats why they broke and youre so paid Ha You might also like I put hoes in NY onto DKNY Uhhuh Miami D.C. prefer Versace Thats right All Philly hoes go with Moschino Come on Every cutie with a booty bought a Coogi Now whos the real dookie Meaning whos really the shit Them niggas ride dicks Frank White push the six Or the Lexus LX four and a half Bulletproof glass tints if I want some ass Gonna blast squeeze first ask questions last Thats how most of these socalled gangsters pass At last a nigga rappin about blunts and broads Tits and bras ménage à trois sex in expensive cars Ill still leave you on the pavement Condo paid for no car payment Uhuh At my arraignment note for the plaintiff Your daughters tied up in a Brooklyn basement Face it not guilty thats how I stay filthy Not Guilty Richer than Richie til you niggas come and get me Come on  Biggie Biggie Biggie cant you see Sometimes your words just hypnotize me And I just love your flashy ways Guess thats why they broke and youre so paid Biggie Biggie Biggie cant you see Uhhuh Sometimes your words just hypnotize me Hypnotize And I just love your flashy ways Uhhuh Guess thats why they broke and youre so paid I can fill you with real millionaire shit I can fill ya Escargot my car go onesixty swiftly Come on Wreck it buy a new one Your crew runrunrun your crew runrun I know you sick of this name brand nigga with Flows girls say hes sweet like licorice So get with this nigga its easy Uhhuh Girlfriend heres a pen call me round ten Come through have sex on rugs thats Persian Thats right Come up to your job hit you while you workin For certain Poppa freakin not speakin Leave that ass leakin like rapper demo Tell them ho take they clothes off slowly Slowly Hit em with the force like Obi Obi Dick black like Toby Toby Watch me roam like Romey Romey Lucky they dont owe me Where the safe Show me homie Say what homie  Biggie Biggie Biggie cant you see Sometimes your words just hypnotize me And I just love your flashy ways Guess thats why they broke and youre so paid Biggie Biggie Biggie cant you see Uhhuh Sometimes your words just hypnotize me Hypnotize And I just love your flashy ways Uhhuh Guess thats why they broke and youre so paid Biggie Biggie Biggie cant you see Sometimes your words just hypnotize me And I just love your flashy ways Guess thats why they broke and youre so paid Biggie Biggie Biggie cant you see Sometimes your words just hypnotize me And I just love your flashy ways Guess thats why they broke and youre so paid Biggie Biggie Biggie cant you see Uhhuh Sometimes your words just hypnotize me Hypnotize And I just love your flashy ways Uhhuh Guess thats why they broke and youre so paid Biggie Biggie Biggie cant you see Sometimes your words just hypnotize me And I just love your flashy ways Guess thats why they broke and youre so paid169Embed 195 ContributorsTen Crack Commandments Lyrics 1 2 3 4 5 6 7 8 9  Its the ten crack commandments what Nigga cant tell me nothing about this coke Cant tell me nothing about this crack this weed for my hustlin niggas Niggas on the corner I aint forget you niggas my triple beam niggas  Ive been in this game for years it made me a animal Theres rules to this shit I wrote me a manual A stepbystep booklet for you to get Your game on track not your wig pushed back Rule Nombre Uno never let no one know How much dough you hold cause you know The cheddar breed jealousy specially If that man fucked up get yo ass stuck up Number Two never let em know your next move Dont you know bad boys move in silence and violence Take it from your highness Uhhuh I done squeezed mad clips at these cats for they bricks and chips Number Three never trust nobody Your momsll set that ass up properly gassed up Hoodied and masked up shit for that fast buck She be laying in the bushes to light that ass up Number Four I know you heard this before Never get high on your own supply Number Five never sell no crack where you rest at I dont care if they want an ounce tell em Bounce Number Six that goddamn credit Dead it You think a crackhead paying you back Shit forget it Seven this rule is so underrated Keep your family and business completely separated Money and blood dont mix like two dicks and no bitch Find yourself in serious shit Number Eight never keep no weight on you Them cats that squeeze your guns can hold jums too Number Nine shoulda been Number One to me If you aint gettin bagged stay the fuck from police If niggas think you snitchin they aint tryna listen They be sittin in your kitchen waiting to start hittin Number Ten a strong word called consignment Strictly for live men not for freshmen If you aint got the clientele say Hell no Cause they gon want they money rain sleet hail snow Follow these rules youll have mad bread to break up If not twentyfour years on the wake up Slug hit your temple watch your frame shake up Caretaker did your makeup when you passed Your girl fucked my man Jake up Heard in three weeks she sniffed a whole half a cake up Heard she suck a good dick and can hook a steak up Gotta go gotta go more pies to bake up word up Uh You might also like Crack King Frank Wizzhite  1 2 3 5 6 7 8 1 1 2 3 4 5 1 1 1 1 1 2 3 4 4 5 1 2 3 4 5 6 7 8 9 10.......10105Embed 178 ContributorsWho Shot Ya Lyrics  As we proceed to give you what you need Uh 95 motherfuckers Get live motherfuckers As we proceed to give you what you need 95 motherfuckers Get live motherfuckers Now turn the mics up As we proceed to give you what you need Turn that mic up Yeah that beat is knocking I need that mic up though Turn that shit the fuck up East Coast motherfuckers Uh what Bad Boy motherfuckers Turn it up louder yeah uh As we proceed to give you what you need J.M. motherfuckers J.M. motherfuckers Uh 95 motherfuckers Uh  Who shot ya Separate the weak from the obsolete Hard to creep them Brooklyn streets Its on nigga fuck all that bickerin beef I can hear sweat tricklin down your cheek Your heartbeat sound like Sasquatch feet Thunderin shakin the concrete Then the shit stop when I foil the plot Neighbors call the cops said they heard mad shots Saw me in the drop three and a quarter Slaughter electrical tape around your daughter Old school new school need to learn though I burn baby burn like Disco Inferno Burn slow like blunts with yayo Peel more skins than Idaho Potato Niggas know; the lyrical molesting is taking place Fucking with B.I.G. it aint safe I make your skin chafe rashes on them asses Bumps and bruises blunts and Land Cruisers Big Poppa smash fools bash fools Niggas mad because I know that cash rules Everything around me two Glock nines Any motherfucker whispering about mines And Im And Im Crooklyns finest Crooklyns finest You rewind this Bad Boys behind this Bad Boys behind this You might also like As we proceed to give you what you need What 95 motherfuckers What Get live motherfuckers As we proceed to give you what you need What East Coast motherfuckers Bad Boy motherfuckers Get high motherfuckers Get high motherfuckers Uh uh Smoke blunts motherfuckers Uh Get high motherfuckers 95 uh Ready to die motherfuckers Uh 95 motherfuckers Uh  I seen the light excite all the freaks Stack mad chips spread love with my peeps Niggas wanna creep gotta watch my back Think the Cognac and indo sack make me slack I switches all that cocksucker Gs up One false move get Swiss cheesed up Clip to TEC respect I demand it Slip and break the 11th Commandment Thou shalt not fuck with nor see Poppa Feel a thousand deaths when I drop you I feel for you like Chaka Khan Im the don Pussy when I want Rolex on the arm Youll die slow but calm Recognize my face so there wont be no mistake So you know where to tell Jake lame nigga Brave nigga turned front page nigga Puff Daddy flips daily I smoke the blunts he sips on the Baileys On the rocks tote Glocks at christenings Hammer cock in the fire position and— Come here come here It aint gotta be like that B.I.G. Open your fucking mouth open your— Didnt I tell you dont fuck with me Come on man Huh Didnt I tell you not to fuck with me Come on man Huh Come on man Look at you now huh Come on man Cant talk with a gun in your mouth huh Bitchass nigga what Who shot ya  To give you what you need 95 motherfuckers Get live motherfuckers Get high motherfuckers Who shot ya Ready to die motherfuckers hah As we proceed Who shot ya To give you what you need 95 motherfuckers East Coast motherfucker Who shot ya West Coast motherfuckers Uh West Coast motherfuckers hah As we proceed to give you what you need As we proceed to give you what you need As we proceed to give you what you need Get live motherfuckers Get live motherfuckers Get live motherfuckers 95 motherfuckers 95 motherfuckers Get money motherfuckers As we proceed to give you what you need As we proceed to give you what you need Get live motherfuckers Get live motherfuckers 95 motherfuckers J.M. motherfuckers J.M. motherfuckers As we proceed To give you what you need 95119Embed 242 ContributorsNotorious Thugs Lyrics And Biggie Biggie Its Bone and Biggie Biggie We gon rock the party Just Bone and Biggie Biggie Its Bone and Biggie Biggie Rock the party party Its Bone and Biggie Biggie Its Bone and Biggie Biggie Better run and tell everybody Just Bone and Biggie Biggie Its Bone and Biggie Biggie Everybody everybody Lets ride lets ride lets ride lets ride Get high get high get high cmon Lets ride lets ride lets ride lets ride Get high get high get high cmon cmon This is a lake of fire right here Its Bone and Biggie Biggie Its Bone and Biggie Biggie We gon rock the party Just Bone and Biggie Biggie Its Bone and Biggie Biggie Rock the party party Its Bone and Biggie Biggie Its Bone and Biggie Biggie Better run and tell everybody Just Bone and Biggie Biggie Its Bone and Biggie Biggie Everybody everybody  Notorious thugs Nothin but them thugstas nothin but them thugsta thugstas Notorious thugs Nothin but them thugstas nothin but them thugsta thugstas You might also like Its Bone and Biggie Biggie Its Bone and Biggie Biggie We gon rock the party Just Bone and Biggie Biggie Its Bone and Biggie Biggie Rock the party party Its Bone and Biggie Biggie Its Bone and Biggie Biggie Better run and tell everybody Just Bone and Biggie Biggie Its Bone and Biggie Biggie Everybody everybody Lets ride lets ride Lets ride lets ride Get high get high get high cmon Lets ride lets ride Lets ride lets ride Get high get high get high cmon cmon  Armed and dangerous Aint too many can bang with us Straight up weed no angel dust Label us notorious Thugass niggas that love to bust its strange to us Yall niggas be scramblin gamblin Up in restaurants with mandolins and violins We just sittin here tryna win tryin not to sin High off weed and lots of gin So much smoke need oxygen Steadily countin them Benjamins Nigga you should too if you knew What this gamell do to you Been in this shit since 92 Look at all the bullshit I been through Socalled beef with youknowwho Fucked a few female stars or two Then I blew like niggas move like Mike Shit not to be fucked with Motherfucker better duck quick Cause me and my dogs love to buck shit Fuck the luck shit strictly aim No aspirations to quit the game Spit yo game talk yo shit Grab yo gat call yo clique Squeeze yo clip hit the right one Pass that weed I got to light one All them niggas I got to fight one All them hoes I got to like one Our situation is a tight one What you gonna do fight or run Seems to me that youll take B Bone and Big nigga die slowly Ima tell you like a nigga told me Cash Rule Everything Around Me Shit lyrically niggas cant see me Fuck it buy the coke cook the coke cut it Know the bitch fore you caught yourself lovin it Nigga with a Benz fuckin it Doesnt it seem odd to you Big come through with mobs and crews Goodfellas down to the Mo Thugs dudes Whos the killer me or you We forgive you for you know not what you do  7 A.M. woke in the morning With Hen and caffeine and green and nicotine NoDoz so pop a couple of those Lil RIPsta nigga Mista Clean make it gleam Deep in my temple and not to get sentimentally steamed With my instrumelody and heated especially for your team And a .45 indeed will beam In between the scenes destroy your dreams You willin to die Well see How many flee when I cause the scene We mean mug Mo Thugs trained to be perfect disciples When its survival tongue is a doubleedged sword Triple six rivals spittin fire This the real truth bitch breakin out for lies My Messiahs better be ready for Armageddon shits expired Its wild bless the child the one that became a man Put in positions off in the Clair All that I had to do was stare Test me now contender; never no surrender no pretend Pick up my pen in my hand One of my trusted friendfriends Hey open the last seal for real we all suited Beg my pardon to Martin baby we aint marchin we shootin In daily recruitin theres a thug born everyday in the ghetto We start em off little we give em a bible And a pen and a pad to hit the label—kick it nigga Nigga roll with Bone up into the dank spot To the dome with a shot of burb Never get tossed to the curb Be feelin that urge to splurge But Im broke as fuck Sin give me that Mossberg swerve Up into my bag cause I gotta get my mask and shells To put in this 12 gauge sawedoff Get em hauled off nigga yall loss Take it all off got a nigga caught off For the pump now Leatherface sin runnin thuggin and cuttin Little Mo Hart want to pull it aint nothin Bitch if you steppin we buckin them guns that’s fucked up Now let me get down for the grind Gotta go purchase a dime Put in a state to get down for the crime Smokin the reefer to ease my mind Swig some wine step on the block with the rocks But really we be servin them dummies see Gotta buck him on down If he come back talkin like Give me back me money Thuggin with me killers Need us a liter of liquor but niggas aint got shit With a sawedoff pump chrome .38 pistol Now who ready to get bent Nigga like me fiendin for them green leaves But I aint had no dough Gotta make some money So Im makin my dummy rocks if I go broke  Its Bone and Biggie Biggie Its Bone and Biggie Biggie We gon rock the party Just Bone and Biggie Biggie Its Bone and Biggie Biggie Rock the party party Its Bone and Biggie Biggie Its Bone and Biggie Biggie Better run and tell everybody Just Bone and Biggie Biggie Its Bone and Biggie Biggie Everybody everybody Lets ride lets ride Lets ride lets ride Get high get high get high cmon Lets ride lets ride Lets ride lets ride Get high get high get high cmon cmon   Yeah Little Lay hey comin in the form of scripture Finna get ya and hit ya with magic Droppin down lead but I call it my gadgets With an automatic status we spray Time to load the Glocks but Im thinkin not Theres another evil force tellin me to do what I gotta do So I up my pipe a nigga dyin tonight And Im always runnin from the boys in blue Biggie blues on my ass Now I pull out the cellular phone to call Bone Whats happenin Grab artillery a nigga start packin Cause a motherfucker tried to get me in a jackin And I did him hit him right between the eyes The spot was wise; wanna test a nigga size itll cost him Nigga fuck around with the wrong shit Yall get mo murdered all day all day We done paved the way and Im on the run Ima call my boys and bring all the guns Yall niggas wanna have a little fun with number one one one Bloody red red rum rum rum rum rum rum Bloody red red rum rum rum rum rum rum Bloody red red rum  Its Bone and Biggie Biggie Its Bone and Biggie Biggie We gon rock the party Just Bone and Biggie Biggie Its Bone and Biggie Biggie Rock the party party Its Bone and Biggie Biggie Its Bone and Biggie Biggie Better run and tell everybody Just Bone and Biggie Biggie Its Bone and Biggie Biggie Everybody everybody Lets ride lets ride Lets ride lets ride Get high get high get high cmon Lets ride lets ride Lets ride lets ride Get high get high get high cmon cmon Its Bone and Biggie Biggie Its Bone and Biggie Biggie We gon rock the party Just Bone and Biggie Biggie Its Bone and Biggie Biggie Rock the party party Its Bone and Biggie Biggie Its Bone and Biggie Biggie Better run and tell everybody Just Bone and Biggie Biggie Its Bone and Biggie Biggie Everybody everybody Lets ride lets ride Lets ride lets ride Get high get high get high cmon Lets ride lets ride Lets ride lets ride Get high get high get high cmon cmon156Embed 174 ContributorsMo’ Money Mo’ Problems Lyrics  Now whos hot who not Tell me who rock who sell out in the stores You tell me who flopped who copped the blue drop Whose jewels got rocks Whos mostly Dolce down to the tube sock The same old pimp Mase You know aint nothing change but my limp Cant stop till I see my name on a blimp Guarantee a million sales call it love or luck You dont believe in Harlem World nigga double up We dont play around its a bet lay it down Niggas didnt know me 91 bet they know me now Im the young Harlem nigga with the Goldie sound Cant no Ph.D. niggas hold me down Cudda schooled me to the game now I know my duty Stay humble stay low blow like Hootie True pimp niggas spend no dough on the booty And then you yell There go Mase there go your cutie  I dont know what they want from me Its like the more money we come across The more problems we see I dont know what they want from me Its like the more money we come across The more problems we see You might also like Im the D to the A to the DDY Know youd rather see me die than to see me fly I call all the shots rip all the spots Rock all the rocks cop all the drops I know you thinking now When all the ballin stops Nigga never home gotta call me on the yacht Ten years from now well still be on top Yo I thought I told you that we wont stop Now what you gon do with a crew That got money much longer than yours And a team much stronger than yours Violate me thisll be your day we dont play Mess around be D.O.A. be on your way ‘Cause it aint enough time here Aint enough lime here for you to shine here Deal with many women but treat dimes fair And Im bigger than the city lights down in Times Square Yea yea yea  I dont know what they want from me Its like the more money we come across The more problems we see I dont know what they want from me Its like the more money we come across The more problems we see BIG POPPA No info for the DEA Federal agents mad ‘cause Im flagrant Tap my cell and the phone in the basement My team supreme stay clean Triple beam lyrical dream I be that Cat you see at all events bent Gats in holsters girls on shoulders Playboy I told ya mere mics to me Bruise too much I lose too much Step on stage the girls boo too much I guess its ‘cause you run with lame dudes too much Me lose my touch Never that If I did aint no problem to get the gat Where the true players at Throw your Rolies in the sky Wave em side to side and keep your hands high While I give your girl the eye player please Lyrically niggas see B.I.G be flossin’ Jig on the cover of Fortune 5doubleO Heres my phone number your man aint got to know I got the dough got the flow down pizat Platinum plus like thizat Dangerous on trizacks leave your ass flizat  I dont know what they want from me Its like the more money we come across The more problems we see I dont know what they want from me Its like the more money we come across The more problems we see I dont know what they want from me Its like the more money we come across The more problems we see Whats going on Whats going on Somebody tell me Whats going on  I dont know what they want from me Its like the more money we come across The more problems we see I dont know what they want from me Its like the more money we come across The more problems we see I dont know what they want from me Its like the more money we come across The more problems we see89Embed 211 ContributorsTranslationsРусскийEnglishGimme the Loot Lyrics Yeah motherfuckers better know Huh huh Im a bad bad bad Lock your windows close your doors Biggie Smalls Huh yeah Im a bad bad bad  My man Inf left a TEC and a nine at my crib Turned him self in he had to do a bid A onetothree he be home the end of 93 Im ready to get this paper G you with me Motherfuckin right my pockets lookin kinda tight And Im stressed Yo Biggie let me get the vest No need for that just grab the fuckin gat The first pocket thats fat the TEC is to his back Word is bond Ima smoke him yo dont fake no moves What Treat it like boxin stick and move stick and move Nigga you aint got to explain shit Ive been robbin motherfuckers since the slave ships With the same clip and the same fourfive Two point blank a motherfucker sure to die Thats my word nigga even try to bogard Have his mother singin Its so hard Yes love love your fuckin attitude Because the nigga play pussy Thats the nigga thats gettin screwed And bruised up from the pistol whippin Welts on the neck from the necklace strippin Then Im dippin up the block and Im robbin bitches too Up the herringbones and bamboos I wouldnt give a fuck if youre tnangerp Give me the baby rings and the #1 Mom pendant Im slammin niggas like Shaquille shit is real When its time to eat a meal I rob and steal Cause mom duke aint givin me shit So for the bread and butter I leave niggas in the gutter Huh word to mother Im dangerous Crazier than a bag of fuckin angel dust When I bust my gat motherfuckers take dirt naps Im all that and a dime sack where the paper at You might also like When hes stickin you and takin all of your money  Gimme the loot gimme the loot Im a bad bad bad Gimme the loot gimme the loot Im a bad bad bad Gimme the loot gimme the loot Im a bad bad bad Gimme the loot gimme the loot Im a bad bad bad Whats mines is mines and whats yours is mine Gimme the loot gimme the loot Im a bad bad bad Gimme the loot gimme the loot Im a bad bad bad Gimme the loot gimme the loot Im a bad bad bad Gimme the loot gimme the loot Im a bad bad bad Whats mines is mines and whats yours is mine  Big up Big up Its a stick up Stick up And Im shootin niggas quick if ya hiccup Dont let me fill my clip up in ya back and headpiece The opposite of peace sendin mom duke a wreath Youre talkin to the robbery expert Step into your wake with your blood on my shirt Dont be a jerk and get smoked over bein resistant Cause when I lick shots them shits is persistent Goodness gracious the papers Where the cash at Where the stash at Nigga pass that Before you get your grave dug from the main thug Three fiftyseven slug And my nigga Biggie got a itchy one grip One in the chamber thirtytwo in the clip Motherfuckers better strip Yeah nigga peel Before you find out how blue steel feel From the Beretta puttin all the holes in ya sweater The moneygetter motherfuckers know the pedi Rolex watches and colorful Swatches Im diggin in pockets motherfuckers cant stop it Man niggas come through Im takin high school rings too Bitches get delgnarts for their earrings and bangles And when I rock her and drop her Im taking her door knockers And if shes resistant blakka blakka blakka So go get your man bitch he can get robbed too Tell him Biggie took it what the fuck he gonna do Man I hope apologetic or Im a have to set it And if I set it the cocksucker wont forget it Hey bitch hey bitch gimme your money bitch When hes stickin you and takin all your money  Gimme the loot gimme the loot Im a bad bad bad Gimme the loot gimme the loot Im a bad bad bad Gimme the loot gimme the loot Im a bad bad bad Gimme the loot gimme the loot Im a bad bad bad Whats mines is mines and whats yours is mine Gimme the loot gimme the loot Im a bad bad bad Gimme the loot gimme the loot Im a bad bad bad Gimme the loot gimme the loot Im a bad bad bad Gimme the loot gimme the loot Im a bad bad bad Whats mines is mines and whats yours is mine  Man listen all this walkin is hurtin my feet Ooh money looks sweet Where at In the Isuzu Jeep Man I throw him in the fiend you grab the fucking cream And if he start to scream bombom have a nice dream Hold up he got a fucking bitch in the car Fur coats and diamonds she think she a superstar Ooh Biggie let me jack her Ill kick her in the back Hit her with the gat Yo chill shorty let me do that Just get the fucking car keys and cruise up the block The bitch act shocked getting shot on the spot Oh shit the cops Be cool fool They aint gonna roll up all they want is fucking doughnuts So why the fuck he keep looking I guess to get his life tooken I just came home aint trying to see Central Booking Oh shit now he looking in my face You better haul ass cause I aint with no fucking chase So lace up your boots cause Im about to shoot A true motherfucker going out for the loot Take that motherfuckers93Embed 236 ContributorsDead Wrong Lyrics Bad Boy baby Yeah yeah Junior M.A.F.I.A. yeah B.I.G. 2000 B.I.G. 2000 again Yeah  The weak or the strong Who got it goin on Youre dead wrong The weak or the strong Who got it goin on Youre dead wrong  Relax and take notes while I take tokes of the marijuana smoke Throw you in a choke — gunsmoke Gunsmoke Biggie Smalls for mayor the rap slayer the hooker layer Motherfucker say your prayers Hail Mary full of grace... — smack the bitch in the face Take her Gucci bag and the North Face off her back jab her if she act Funny with the money Oh you got me mistaken honey I dont wanna rape ya I just want the paper The Visa capisceah Im out like The Vapors Whos the one you call Mr. Macho The head honcho swift fists like Cumacho I got so much style I should be down with the Stylistics Make up to break up niggas need to wake up Smell the Indonesia beat you to a seizure Then fuck your moms hit the skins to amnesia She dont remember shit Just the two hits Her hittin the floor and me hittin the clits Suckin on the tits had the hooker beggin for the dick And your moms aint ugly love my dick got rock quick I guess I was a combination of House of Pain and Bobby Brown I was Humpin Around and Jumpin Around Jacked her then I asked her Whos the man She said BIG then I bust in her EYE You might also like Yo Big youre dead wrong The weak or the strong Who got it goin on Youre dead wrong Yo Big youre dead wrong The weak or the strong Who got it goin on Junior MAFIA Bad Boy Youre dead wrong The weak or the strong Who got it goin on Who got it goin on Youre dead wrong Yo Big youre dead wrong The weak or the strong Who got it goin on Who got it goin on Youre dead wrong  When I get dusted I like to spread the blunt like mustard Trust it My hardcore rain leaves ya rusted Move over Lucifer Im more ruthless uh Leave you toothless youll kibitz Ill flip it Tears dont affect me I hit em with the TEC Gs Disrespect me my potency is deadly Im shootin babies — no ifs ands or maybes Hit mummy in the tummy if the hooker plays a dummy Slit the wrist of little sis After she sucked the dick I stabbed her brother with the ice pick Because he wanted me to fuck him from the back But Smalls dont get down like that Found your father hidin in a room fucked him with the broom Slit him down the back and threw salt in the wound Who you think youre dealin with Anybody step into my path is fuckin feeling it Hardcore I got it sucked like a pussy Stab you til youre gushy so please dont push me Im using rubbers so they wont trace the semen The black demon got the little hookers screamin Woo Because you know I love it young fresh and green With no hair in between know what I mean The weak or the strong Who got it going on Youre dead wrong Yo Big youre dead wrong The weak or the strong Who got it goin on Youre dead wrong This 2000 Bad Boy forever baby The weak or the strong Who got it goin on Who got it goin on Youre dead wrong Yo Big youre dead wrong The weak or the strong Who got it goin on Youre dead wrong Ladies and gentlemen...  Theres several different levels to Devil worshipin Horses heads human sacrifices cannibalism candles and exorcism Animals havin sex with em camels mammals and rabbits But I dont get into that I kick the habit I just beat you to death with weapons that eat through the flesh And I never eat you unless the fuckin meat looks fresh I got a lion in my pocket — Im lyin I got a .9 in my pocket And baby Im just dyin to cock him Hes ready for war Im ready for war I got machetes and swords for any faggot that said he was raw My Uzis heavy as yours Yeah you met me before I just didnt have as large an arsenal of weapons before Marshall will step in the door Ill lay your head on the floor With your body spread on the bedspread red on the wall Red on the ceiling red on the floor get a new whore Met on the second wed on the third then shes dead on the fourth Im dead wrong The weak or the strong Who got it goin on Youre dead wrong Yo Big youre dead wrong The weak or the strong Who got it goin on Junior MAFIA Bad Boy Youre dead wrong The weak or the strong Uhhuh Who got it goin on Born Again yeah Youre dead wrong Yo Big youre dead wrong The weak or the strong Who got it goin on Youre dead wrong Cmon The weak or the strong Who got it goin on Youre dead wrong Cmon Yo Big youre dead wrong The weak or the strong Who got it goin on Youre dead wrong *repeat to fade*  We wont stop cause we cant stop 95Embed]']\""
      ]
     },
     "execution_count": 59,
     "metadata": {},
     "output_type": "execute_result"
    }
   ],
   "source": [
    "csv_start.to_csv('/home/lettuce/MyCode/Statistical-Analysis-of-Music-Genres/src/rap_TRAN.csv', index=False)\n",
    "csv_start = pd.read_csv('/home/lettuce/MyCode/Statistical-Analysis-of-Music-Genres/src/rap_TRAN.csv')\n",
    "csv_start[\"Lyrics\"][0]"
   ]
  },
  {
   "cell_type": "code",
   "execution_count": 60,
   "metadata": {},
   "outputs": [
    {
     "name": "stdout",
     "output_type": "stream",
     "text": [
      "\n",
      "Organizing TotalData...\n",
      "\n",
      "Done Saved in rap_NEWT.csv\n"
     ]
    }
   ],
   "source": [
    "#Get total Lyrics said by each rapper\n",
    "organizeDataTotal(csv_start)\n",
    "csv_start.to_csv('/home/lettuce/MyCode/Statistical-Analysis-of-Music-Genres/src/rap_TRAN.csv', index=False)\n",
    "csv_start = pd.read_csv('/home/lettuce/MyCode/Statistical-Analysis-of-Music-Genres/src/rap_TRAN.csv')\n",
    "rap_final = pd.read_csv('/home/lettuce/MyCode/Statistical-Analysis-of-Music-Genres/src/Rap-vs-Country-StatisticalStudy/rap_NEWT.csv')\n"
   ]
  },
  {
   "cell_type": "code",
   "execution_count": 63,
   "metadata": {},
   "outputs": [
    {
     "name": "stdout",
     "output_type": "stream",
     "text": [
      "Organizing Data...\n",
      "Organizing Lyrics for The Notorious B.I.G.\n",
      "Organizing Lyrics for Tupac\n",
      "Organizing Lyrics for Eminem\n",
      "Organizing Lyrics for Kendrick Lamar\n",
      "Organizing Lyrics for Nas\n",
      "Organizing Lyrics for Dr. Dre\n",
      "Organizing Lyrics for Ice Cube\n",
      "Organizing Lyrics for Snoop Dogg\n",
      "Organizing Lyrics for JAY-Z\n",
      "Organizing Lyrics for Kanye West\n",
      "Organized Data\n"
     ]
    }
   ],
   "source": [
    "\n",
    "organizeDataArtist(csv_start, rap_final)"
   ]
  }
 ],
 "metadata": {
  "kernelspec": {
   "display_name": "Python 3",
   "language": "python",
   "name": "python3"
  },
  "language_info": {
   "codemirror_mode": {
    "name": "ipython",
    "version": 3
   },
   "file_extension": ".py",
   "mimetype": "text/x-python",
   "name": "python",
   "nbconvert_exporter": "python",
   "pygments_lexer": "ipython3",
   "version": "3.10.6"
  },
  "orig_nbformat": 4
 },
 "nbformat": 4,
 "nbformat_minor": 2
}
